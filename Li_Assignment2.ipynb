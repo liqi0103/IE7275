{
 "cells": [
  {
   "cell_type": "markdown",
   "id": "fa0384b5",
   "metadata": {},
   "source": [
    "### IE 7275 - Assignment 2 - Explonatory Data Analysis & Feature selection "
   ]
  },
  {
   "cell_type": "code",
   "execution_count": 13,
   "id": "db31ba7a",
   "metadata": {},
   "outputs": [
    {
     "name": "stdout",
     "output_type": "stream",
     "text": [
      "IE 7275: Data mining in Engineering\n",
      "\n",
      "\n",
      "\n",
      "\n",
      "\n",
      "\n",
      "\n",
      "\n",
      "\n",
      "\n",
      "\n",
      "\n",
      "\n",
      "\n",
      "\n",
      "\n",
      "Homework - 2\n",
      "Student name :Qi Li\n",
      "Student Email :li.qi8@northeastern.edu\n",
      "\n",
      "\n",
      "\n",
      "\n",
      "\n",
      "\n",
      "\n",
      "\n",
      "\n",
      "\n",
      "\n",
      "\n",
      "\n",
      "\n",
      "\n",
      "\n",
      "Percentage of Effort Contributed by Student : 100%\n",
      "Submission Date: 2023-02-28\n"
     ]
    }
   ],
   "source": [
    "from datetime import date\n",
    "studentName=\"Qi Li\"\n",
    "studentEmail=\"li.qi8@northeastern.edu\"\n",
    "homework=2\n",
    "contributedPercentage=100\n",
    "print(\"IE 7275: Data mining in Engineering\")\n",
    "print(\"\\n\"*15)\n",
    "print(f'Homework - {homework}')\n",
    "print(f'Student name :{studentName}')\n",
    "print(f'Student Email :{studentEmail}')\n",
    "print(\"\\n\"*15)\n",
    "print(f'Percentage of Effort Contributed by Student : {contributedPercentage}%')\n",
    "print(f'Submission Date: {date.today()}')"
   ]
  },
  {
   "cell_type": "code",
   "execution_count": 22,
   "id": "ee426e12",
   "metadata": {},
   "outputs": [],
   "source": [
    "import pandas as pd\n",
    "import numpy as np\n",
    "import seaborn as sns\n",
    "\n",
    "import matplotlib.pyplot as plt\n",
    "from scipy import stats\n",
    "from statsmodels.stats.outliers_influence import variance_inflation_factor\n",
    "\n",
    "from sklearn.datasets import load_boston\n",
    "from sklearn.model_selection import train_test_split\n",
    "from sklearn.linear_model import LinearRegression\n",
    "from sklearn.feature_selection import RFE\n",
    "from sklearn.linear_model import RidgeCV, LassoCV, Ridge, Lasso\n",
    "\n",
    "from sklearn.model_selection import train_test_split\n",
    "from sklearn.linear_model import LinearRegression, Lasso, Ridge, LassoCV, BayesianRidge\n",
    "from sklearn.feature_selection import f_regression\n",
    "import matplotlib.pylab as plt\n",
    "%matplotlib inline\n",
    "import statsmodels.api as sm\n",
    "\n",
    "import dmba\n",
    "from dmba import regressionSummary, exhaustive_search\n",
    "from dmba import backward_elimination, forward_selection, stepwise_selection\n",
    "from dmba import adjusted_r2_score, AIC_score, BIC_score\n",
    "\n",
    "import warnings\n",
    "warnings.filterwarnings('ignore')"
   ]
  },
  {
   "cell_type": "markdown",
   "id": "6718ce7d",
   "metadata": {},
   "source": [
    "### a) Show how to understand the variables and show their relationship using visualization and table format \n",
    "\n",
    "i) Descriptive statistics ii) Missing values iii) Duplicate data iv) Outlier detections v) Imputations vi) Correlation analysis "
   ]
  },
  {
   "cell_type": "code",
   "execution_count": 15,
   "id": "1b0c892c",
   "metadata": {},
   "outputs": [
    {
     "name": "stdout",
     "output_type": "stream",
     "text": [
      "Dimensions:  (1338, 7) \n",
      "\n",
      "<class 'pandas.core.frame.DataFrame'>\n",
      "RangeIndex: 1338 entries, 0 to 1337\n",
      "Data columns (total 7 columns):\n",
      " #   Column    Non-Null Count  Dtype  \n",
      "---  ------    --------------  -----  \n",
      " 0   age       1338 non-null   int64  \n",
      " 1   sex       1338 non-null   object \n",
      " 2   bmi       1338 non-null   float64\n",
      " 3   children  1338 non-null   int64  \n",
      " 4   smoker    1338 non-null   object \n",
      " 5   region    1338 non-null   object \n",
      " 6   charges   1338 non-null   float64\n",
      "dtypes: float64(2), int64(2), object(3)\n",
      "memory usage: 73.3+ KB\n",
      "None \n",
      "\n"
     ]
    },
    {
     "data": {
      "text/html": [
       "<div>\n",
       "<style scoped>\n",
       "    .dataframe tbody tr th:only-of-type {\n",
       "        vertical-align: middle;\n",
       "    }\n",
       "\n",
       "    .dataframe tbody tr th {\n",
       "        vertical-align: top;\n",
       "    }\n",
       "\n",
       "    .dataframe thead th {\n",
       "        text-align: right;\n",
       "    }\n",
       "</style>\n",
       "<table border=\"1\" class=\"dataframe\">\n",
       "  <thead>\n",
       "    <tr style=\"text-align: right;\">\n",
       "      <th></th>\n",
       "      <th>age</th>\n",
       "      <th>sex</th>\n",
       "      <th>bmi</th>\n",
       "      <th>children</th>\n",
       "      <th>smoker</th>\n",
       "      <th>region</th>\n",
       "      <th>charges</th>\n",
       "    </tr>\n",
       "  </thead>\n",
       "  <tbody>\n",
       "    <tr>\n",
       "      <th>0</th>\n",
       "      <td>19</td>\n",
       "      <td>female</td>\n",
       "      <td>27.900</td>\n",
       "      <td>0</td>\n",
       "      <td>yes</td>\n",
       "      <td>southwest</td>\n",
       "      <td>16884.92400</td>\n",
       "    </tr>\n",
       "    <tr>\n",
       "      <th>1</th>\n",
       "      <td>18</td>\n",
       "      <td>male</td>\n",
       "      <td>33.770</td>\n",
       "      <td>1</td>\n",
       "      <td>no</td>\n",
       "      <td>southeast</td>\n",
       "      <td>1725.55230</td>\n",
       "    </tr>\n",
       "    <tr>\n",
       "      <th>2</th>\n",
       "      <td>28</td>\n",
       "      <td>male</td>\n",
       "      <td>33.000</td>\n",
       "      <td>3</td>\n",
       "      <td>no</td>\n",
       "      <td>southeast</td>\n",
       "      <td>4449.46200</td>\n",
       "    </tr>\n",
       "    <tr>\n",
       "      <th>3</th>\n",
       "      <td>33</td>\n",
       "      <td>male</td>\n",
       "      <td>22.705</td>\n",
       "      <td>0</td>\n",
       "      <td>no</td>\n",
       "      <td>northwest</td>\n",
       "      <td>21984.47061</td>\n",
       "    </tr>\n",
       "    <tr>\n",
       "      <th>4</th>\n",
       "      <td>32</td>\n",
       "      <td>male</td>\n",
       "      <td>28.880</td>\n",
       "      <td>0</td>\n",
       "      <td>no</td>\n",
       "      <td>northwest</td>\n",
       "      <td>3866.85520</td>\n",
       "    </tr>\n",
       "  </tbody>\n",
       "</table>\n",
       "</div>"
      ],
      "text/plain": [
       "   age     sex     bmi  children smoker     region      charges\n",
       "0   19  female  27.900         0    yes  southwest  16884.92400\n",
       "1   18    male  33.770         1     no  southeast   1725.55230\n",
       "2   28    male  33.000         3     no  southeast   4449.46200\n",
       "3   33    male  22.705         0     no  northwest  21984.47061\n",
       "4   32    male  28.880         0     no  northwest   3866.85520"
      ]
     },
     "execution_count": 15,
     "metadata": {},
     "output_type": "execute_result"
    }
   ],
   "source": [
    "# i) Descriptive statistics\n",
    "df = pd.read_csv(r'/Users/liqi/Desktop/IE7275/Assignment/Assignment 2/healthcaredata.csv')\n",
    "\n",
    "# dimensions\n",
    "print(\"Dimensions: \", df.shape, \"\\n\")\n",
    "\n",
    "# data types\n",
    "print(df.info(), \"\\n\")\n",
    "\n",
    "# List first 5 records\n",
    "df.head()"
   ]
  },
  {
   "cell_type": "code",
   "execution_count": 16,
   "id": "fa51dd4d",
   "metadata": {},
   "outputs": [
    {
     "data": {
      "text/plain": [
       "age         0\n",
       "sex         0\n",
       "bmi         0\n",
       "children    0\n",
       "smoker      0\n",
       "region      0\n",
       "charges     0\n",
       "dtype: int64"
      ]
     },
     "execution_count": 16,
     "metadata": {},
     "output_type": "execute_result"
    }
   ],
   "source": [
    "# ii) find the missing values\n",
    "df.isnull().sum()"
   ]
  },
  {
   "cell_type": "code",
   "execution_count": 17,
   "id": "d6fb9d21",
   "metadata": {},
   "outputs": [
    {
     "name": "stdout",
     "output_type": "stream",
     "text": [
      "1\n"
     ]
    },
    {
     "data": {
      "text/html": [
       "<div>\n",
       "<style scoped>\n",
       "    .dataframe tbody tr th:only-of-type {\n",
       "        vertical-align: middle;\n",
       "    }\n",
       "\n",
       "    .dataframe tbody tr th {\n",
       "        vertical-align: top;\n",
       "    }\n",
       "\n",
       "    .dataframe thead th {\n",
       "        text-align: right;\n",
       "    }\n",
       "</style>\n",
       "<table border=\"1\" class=\"dataframe\">\n",
       "  <thead>\n",
       "    <tr style=\"text-align: right;\">\n",
       "      <th></th>\n",
       "      <th>age</th>\n",
       "      <th>sex</th>\n",
       "      <th>bmi</th>\n",
       "      <th>children</th>\n",
       "      <th>smoker</th>\n",
       "      <th>region</th>\n",
       "      <th>charges</th>\n",
       "    </tr>\n",
       "  </thead>\n",
       "  <tbody>\n",
       "    <tr>\n",
       "      <th>581</th>\n",
       "      <td>19</td>\n",
       "      <td>male</td>\n",
       "      <td>30.59</td>\n",
       "      <td>0</td>\n",
       "      <td>no</td>\n",
       "      <td>northwest</td>\n",
       "      <td>1639.5631</td>\n",
       "    </tr>\n",
       "  </tbody>\n",
       "</table>\n",
       "</div>"
      ],
      "text/plain": [
       "     age   sex    bmi  children smoker     region    charges\n",
       "581   19  male  30.59         0     no  northwest  1639.5631"
      ]
     },
     "execution_count": 17,
     "metadata": {},
     "output_type": "execute_result"
    }
   ],
   "source": [
    "# iii) find the duplicate data\n",
    "print(df.duplicated().sum())\n",
    "df[df.duplicated()]"
   ]
  },
  {
   "cell_type": "code",
   "execution_count": 18,
   "id": "81e8e6e2",
   "metadata": {},
   "outputs": [
    {
     "data": {
      "text/plain": [
       "0"
      ]
     },
     "execution_count": 18,
     "metadata": {},
     "output_type": "execute_result"
    }
   ],
   "source": [
    "# delete duplicate data\n",
    "df.drop_duplicates(inplace = True)\n",
    "df.duplicated().sum()"
   ]
  },
  {
   "cell_type": "code",
   "execution_count": 29,
   "id": "25cd5480",
   "metadata": {},
   "outputs": [
    {
     "name": "stdout",
     "output_type": "stream",
     "text": [
      "(1328, 7)\n",
      "(9, 7)\n"
     ]
    }
   ],
   "source": [
    "# iv) Outlier detections: \n",
    "# create a funtion to find outliers in bmi\n",
    "q1 = df['bmi'].quantile(0.25) \n",
    "q3 = df['bmi'].quantile(0.75) \n",
    "iqr = q3-q1 \n",
    "low  = q1-1.5*iqr \n",
    "high = q3+1.5*iqr \n",
    "df_bmi_include = df.loc[(df['bmi'] >= low) & \\\n",
    "                                (df['bmi'] <= high)]\n",
    "df_bmi_exclude = df.loc[(df['bmi'] < low) | \\\n",
    "                               (df['bmi'] > high)]\n",
    "# show the number of outliers\n",
    "print(df_bmi_include.shape)\n",
    "print(df_bmi_exclude.shape)"
   ]
  },
  {
   "cell_type": "code",
   "execution_count": 20,
   "id": "b4bc157d",
   "metadata": {},
   "outputs": [
    {
     "name": "stdout",
     "output_type": "stream",
     "text": [
      "(1198, 7)\n",
      "(139, 7)\n"
     ]
    }
   ],
   "source": [
    "# create a funtion to find outliers in charges\n",
    "q1 = df['charges'].quantile(0.25) \n",
    "q3 = df['charges'].quantile(0.75) \n",
    "iqr = q3-q1 \n",
    "low  = q1-1.5*iqr \n",
    "high = q3+1.5*iqr \n",
    "df_charges_include = df.loc[(df['charges'] >= low) & \\\n",
    "                                (df['charges'] <= high)]\n",
    "df_charges_exclude = df.loc[(df['charges'] < low) | \\\n",
    "                               (df['charges'] > high)]\n",
    "# show the number of outliers\n",
    "print(df_charges_include.shape)\n",
    "print(df_charges_exclude.shape)"
   ]
  },
  {
   "cell_type": "markdown",
   "id": "03eb41e3",
   "metadata": {},
   "source": [
    "We can see that there are 9 outliers in terms of bmi and 139 outliers in terms of charges. After finding the ouliers, we need to imputate the outliers"
   ]
  },
  {
   "cell_type": "code",
   "execution_count": 21,
   "id": "6d1df929",
   "metadata": {},
   "outputs": [
    {
     "name": "stdout",
     "output_type": "stream",
     "text": [
      "30.53730798192771\n",
      "9934.671757970786\n"
     ]
    }
   ],
   "source": [
    "# v) Imputations: imputate the outliers with mean\n",
    "bmi_mean = df_bmi_include.bmi.mean()\n",
    "print(bmi_mean)\n",
    "\n",
    "charges_mean = df_charges_include.charges.mean()\n",
    "print(charges_mean)\n",
    "\n",
    "df_bmi_exclude.bmi = bmi_mean\n",
    "df_charges_exclude.charges = charges_mean\n",
    "\n",
    "#df_rev = pd.concat([df_bmi_include,df_bmi_exclude])\n",
    "#df_rev.shape"
   ]
  },
  {
   "cell_type": "code",
   "execution_count": 80,
   "id": "f58c9f5f",
   "metadata": {},
   "outputs": [
    {
     "data": {
      "text/plain": [
       "<AxesSubplot: >"
      ]
     },
     "execution_count": 80,
     "metadata": {},
     "output_type": "execute_result"
    },
    {
     "data": {
      "image/png": "[encoded data removed]",
      "text/plain": [
       "<Figure size 700x500 with 2 Axes>"
      ]
     },
     "metadata": {},
     "output_type": "display_data"
    }
   ],
   "source": [
    "# vi) Correlation analysis: show the correlation in table and in heatmap.\n",
    "df.corr()\n",
    "plt.figure(figsize = (7,5))\n",
    "sns.heatmap(df.corr(), annot = True)"
   ]
  },
  {
   "cell_type": "markdown",
   "id": "b46219cc",
   "metadata": {},
   "source": [
    "We can see from the table and the plot that in terms of charges: it has a strong and positive correlation with age and bmi but weak correlation with children. In terms of bmi: it has a strong and positive correlation with age and charges."
   ]
  },
  {
   "cell_type": "markdown",
   "id": "2bca7f6e",
   "metadata": {},
   "source": [
    "### b) Feature engineering (10 points)\n",
    "\n",
    "Analyze each numeric feature distribution for categorical variables using table and visualization format. Hint: How is the variable smoke distribution against age,  gender, etc.?"
   ]
  },
  {
   "cell_type": "code",
   "execution_count": 27,
   "id": "a4047abf",
   "metadata": {},
   "outputs": [
    {
     "data": {
      "text/plain": [
       "array(['southwest', 'southeast', 'northwest', 'northeast'], dtype=object)"
      ]
     },
     "metadata": {},
     "output_type": "display_data"
    },
    {
     "data": {
      "text/plain": [
       "array([0, 1, 3, 2, 5, 4])"
      ]
     },
     "metadata": {},
     "output_type": "display_data"
    },
    {
     "data": {
      "text/plain": [
       "southeast    364\n",
       "southwest    325\n",
       "northwest    324\n",
       "northeast    324\n",
       "Name: region, dtype: int64"
      ]
     },
     "metadata": {},
     "output_type": "display_data"
    },
    {
     "data": {
      "text/plain": [
       "0    573\n",
       "1    324\n",
       "2    240\n",
       "3    157\n",
       "4     25\n",
       "5     18\n",
       "Name: children, dtype: int64"
      ]
     },
     "metadata": {},
     "output_type": "display_data"
    }
   ],
   "source": [
    "# show the unique region and unique children number\n",
    "display(df.region.unique())\n",
    "display(df.children.unique())\n",
    "display(df['region'].value_counts(ascending = False))\n",
    "display(df['children'].value_counts(ascending = False))"
   ]
  },
  {
   "cell_type": "code",
   "execution_count": 75,
   "id": "83f81d11",
   "metadata": {},
   "outputs": [
    {
     "data": {
      "text/html": [
       "<div>\n",
       "<style scoped>\n",
       "    .dataframe tbody tr th:only-of-type {\n",
       "        vertical-align: middle;\n",
       "    }\n",
       "\n",
       "    .dataframe tbody tr th {\n",
       "        vertical-align: top;\n",
       "    }\n",
       "\n",
       "    .dataframe thead th {\n",
       "        text-align: right;\n",
       "    }\n",
       "</style>\n",
       "<table border=\"1\" class=\"dataframe\">\n",
       "  <thead>\n",
       "    <tr style=\"text-align: right;\">\n",
       "      <th></th>\n",
       "      <th>children</th>\n",
       "      <th>smoker</th>\n",
       "      <th>count</th>\n",
       "    </tr>\n",
       "  </thead>\n",
       "  <tbody>\n",
       "    <tr>\n",
       "      <th>0</th>\n",
       "      <td>0</td>\n",
       "      <td>0</td>\n",
       "      <td>458</td>\n",
       "    </tr>\n",
       "    <tr>\n",
       "      <th>1</th>\n",
       "      <td>0</td>\n",
       "      <td>1</td>\n",
       "      <td>115</td>\n",
       "    </tr>\n",
       "    <tr>\n",
       "      <th>2</th>\n",
       "      <td>1</td>\n",
       "      <td>0</td>\n",
       "      <td>263</td>\n",
       "    </tr>\n",
       "    <tr>\n",
       "      <th>3</th>\n",
       "      <td>1</td>\n",
       "      <td>1</td>\n",
       "      <td>61</td>\n",
       "    </tr>\n",
       "    <tr>\n",
       "      <th>4</th>\n",
       "      <td>2</td>\n",
       "      <td>0</td>\n",
       "      <td>185</td>\n",
       "    </tr>\n",
       "    <tr>\n",
       "      <th>5</th>\n",
       "      <td>2</td>\n",
       "      <td>1</td>\n",
       "      <td>55</td>\n",
       "    </tr>\n",
       "    <tr>\n",
       "      <th>6</th>\n",
       "      <td>3</td>\n",
       "      <td>0</td>\n",
       "      <td>118</td>\n",
       "    </tr>\n",
       "    <tr>\n",
       "      <th>7</th>\n",
       "      <td>3</td>\n",
       "      <td>1</td>\n",
       "      <td>39</td>\n",
       "    </tr>\n",
       "    <tr>\n",
       "      <th>8</th>\n",
       "      <td>4</td>\n",
       "      <td>0</td>\n",
       "      <td>22</td>\n",
       "    </tr>\n",
       "    <tr>\n",
       "      <th>9</th>\n",
       "      <td>4</td>\n",
       "      <td>1</td>\n",
       "      <td>3</td>\n",
       "    </tr>\n",
       "    <tr>\n",
       "      <th>10</th>\n",
       "      <td>5</td>\n",
       "      <td>0</td>\n",
       "      <td>17</td>\n",
       "    </tr>\n",
       "    <tr>\n",
       "      <th>11</th>\n",
       "      <td>5</td>\n",
       "      <td>1</td>\n",
       "      <td>1</td>\n",
       "    </tr>\n",
       "  </tbody>\n",
       "</table>\n",
       "</div>"
      ],
      "text/plain": [
       "    children  smoker  count\n",
       "0          0       0    458\n",
       "1          0       1    115\n",
       "2          1       0    263\n",
       "3          1       1     61\n",
       "4          2       0    185\n",
       "5          2       1     55\n",
       "6          3       0    118\n",
       "7          3       1     39\n",
       "8          4       0     22\n",
       "9          4       1      3\n",
       "10         5       0     17\n",
       "11         5       1      1"
      ]
     },
     "metadata": {},
     "output_type": "display_data"
    },
    {
     "data": {
      "text/plain": [
       "([<matplotlib.axis.XTick at 0x7fbf2454ae50>,\n",
       "  <matplotlib.axis.XTick at 0x7fbf2454ae20>],\n",
       " [Text(0, 0, 'no'), Text(1, 0, 'yes')])"
      ]
     },
     "execution_count": 75,
     "metadata": {},
     "output_type": "execute_result"
    },
    {
     "data": {
      "image/png": "[encoded data removed]",
      "text/plain": [
       "<Figure size 500x500 with 1 Axes>"
      ]
     },
     "metadata": {},
     "output_type": "display_data"
    }
   ],
   "source": [
    "# show smoke distribution against children\n",
    "df_0_smoke = df[df['children']== 0]['smoker'].value_counts()\n",
    "df_1_smoke = df[df['children']== 1]['smoker'].value_counts()\n",
    "df_2_smoke = df[df['children']== 2]['smoker'].value_counts()\n",
    "df_3_smoke = df[df['children']== 3]['smoker'].value_counts()\n",
    "df_4_smoke = df[df['children']== 4]['smoker'].value_counts()\n",
    "df_5_smoke = df[df['children']== 5]['smoker'].value_counts()\n",
    "\n",
    "# group them by the number of children and show in table\n",
    "df_smoke = df.groupby(['children', 'smoker'])['age'].count().reset_index()\n",
    "df_smoke = df_smoke.rename(columns={'age': 'count'})\n",
    "display(df_smoke)\n",
    "\n",
    "# show in plot\n",
    "sns.barplot(df_smoke, x = 'smoker', y = 'count', hue = 'children')\n",
    "plt.title('smoke distribution against children')\n",
    "plt.xticks(ticks = [0,1], labels=['no', 'yes'])"
   ]
  },
  {
   "cell_type": "markdown",
   "id": "69730406",
   "metadata": {},
   "source": [
    "We can see from the above plot that people who have children smoke less than people who don't have children and also people who have more children smoke less than people who have less children."
   ]
  },
  {
   "cell_type": "code",
   "execution_count": 76,
   "id": "c5c7fa5d",
   "metadata": {},
   "outputs": [
    {
     "data": {
      "text/html": [
       "<div>\n",
       "<style scoped>\n",
       "    .dataframe tbody tr th:only-of-type {\n",
       "        vertical-align: middle;\n",
       "    }\n",
       "\n",
       "    .dataframe tbody tr th {\n",
       "        vertical-align: top;\n",
       "    }\n",
       "\n",
       "    .dataframe thead th {\n",
       "        text-align: right;\n",
       "    }\n",
       "</style>\n",
       "<table border=\"1\" class=\"dataframe\">\n",
       "  <thead>\n",
       "    <tr style=\"text-align: right;\">\n",
       "      <th></th>\n",
       "      <th>sex</th>\n",
       "      <th>smoker</th>\n",
       "      <th>count</th>\n",
       "    </tr>\n",
       "  </thead>\n",
       "  <tbody>\n",
       "    <tr>\n",
       "      <th>0</th>\n",
       "      <td>0</td>\n",
       "      <td>0</td>\n",
       "      <td>516</td>\n",
       "    </tr>\n",
       "    <tr>\n",
       "      <th>1</th>\n",
       "      <td>0</td>\n",
       "      <td>1</td>\n",
       "      <td>159</td>\n",
       "    </tr>\n",
       "    <tr>\n",
       "      <th>2</th>\n",
       "      <td>1</td>\n",
       "      <td>0</td>\n",
       "      <td>547</td>\n",
       "    </tr>\n",
       "    <tr>\n",
       "      <th>3</th>\n",
       "      <td>1</td>\n",
       "      <td>1</td>\n",
       "      <td>115</td>\n",
       "    </tr>\n",
       "  </tbody>\n",
       "</table>\n",
       "</div>"
      ],
      "text/plain": [
       "   sex  smoker  count\n",
       "0    0       0    516\n",
       "1    0       1    159\n",
       "2    1       0    547\n",
       "3    1       1    115"
      ]
     },
     "metadata": {},
     "output_type": "display_data"
    },
    {
     "data": {
      "text/plain": [
       "([<matplotlib.axis.XTick at 0x7fbf2431a460>,\n",
       "  <matplotlib.axis.XTick at 0x7fbf2431a430>],\n",
       " [Text(0, 0, 'no'), Text(1, 0, 'yes')])"
      ]
     },
     "execution_count": 76,
     "metadata": {},
     "output_type": "execute_result"
    },
    {
     "data": {
      "image/png": "[encoded data removed]",
      "text/plain": [
       "<Figure size 500x500 with 1 Axes>"
      ]
     },
     "metadata": {},
     "output_type": "display_data"
    }
   ],
   "source": [
    "# show smoke distribution against gender\n",
    "\n",
    "# show in table: display the number of male and female smokers\n",
    "df_male_smoke = df[df['sex']== 'male']['smoker'].value_counts()\n",
    "df_female_smoke = df[df['sex']== 'female']['smoker'].value_counts()\n",
    "\n",
    "# group them by sex and show in table\n",
    "df_smoke = df.groupby(['sex', 'smoker'])['age'].count().reset_index()\n",
    "df_smoke = df_smoke.rename(columns={'age': 'count'})\n",
    "display(df_smoke)\n",
    "\n",
    "# show in plot\n",
    "sns.barplot(df_smoke, x = 'smoker', y = 'count', hue = 'sex')\n",
    "plt.title('smoke distribution against gender')\n",
    "plt.xticks(ticks = [0,1], labels=['no', 'yes'])"
   ]
  },
  {
   "cell_type": "markdown",
   "id": "9cc89b24",
   "metadata": {},
   "source": [
    "We can see from the above plot that in terms of people who don't smoke, female have greater value than male. In terms of people who smoke, male have greater value than female. In conclution: there are more man smoke than woman."
   ]
  },
  {
   "cell_type": "code",
   "execution_count": 78,
   "id": "eb4a4c8c",
   "metadata": {},
   "outputs": [
    {
     "data": {
      "text/html": [
       "<div>\n",
       "<style scoped>\n",
       "    .dataframe tbody tr th:only-of-type {\n",
       "        vertical-align: middle;\n",
       "    }\n",
       "\n",
       "    .dataframe tbody tr th {\n",
       "        vertical-align: top;\n",
       "    }\n",
       "\n",
       "    .dataframe thead th {\n",
       "        text-align: right;\n",
       "    }\n",
       "</style>\n",
       "<table border=\"1\" class=\"dataframe\">\n",
       "  <thead>\n",
       "    <tr style=\"text-align: right;\">\n",
       "      <th></th>\n",
       "      <th>age</th>\n",
       "      <th>smoker</th>\n",
       "      <th>count</th>\n",
       "    </tr>\n",
       "  </thead>\n",
       "  <tbody>\n",
       "    <tr>\n",
       "      <th>0</th>\n",
       "      <td>(0, 18]</td>\n",
       "      <td>0.0</td>\n",
       "      <td>58</td>\n",
       "    </tr>\n",
       "    <tr>\n",
       "      <th>1</th>\n",
       "      <td>(0, 18]</td>\n",
       "      <td>1.0</td>\n",
       "      <td>11</td>\n",
       "    </tr>\n",
       "    <tr>\n",
       "      <th>2</th>\n",
       "      <td>(18, 50]</td>\n",
       "      <td>0.0</td>\n",
       "      <td>723</td>\n",
       "    </tr>\n",
       "    <tr>\n",
       "      <th>3</th>\n",
       "      <td>(18, 50]</td>\n",
       "      <td>1.0</td>\n",
       "      <td>188</td>\n",
       "    </tr>\n",
       "    <tr>\n",
       "      <th>4</th>\n",
       "      <td>(50, 100]</td>\n",
       "      <td>0.0</td>\n",
       "      <td>282</td>\n",
       "    </tr>\n",
       "    <tr>\n",
       "      <th>5</th>\n",
       "      <td>(50, 100]</td>\n",
       "      <td>1.0</td>\n",
       "      <td>74</td>\n",
       "    </tr>\n",
       "  </tbody>\n",
       "</table>\n",
       "</div>"
      ],
      "text/plain": [
       "         age  smoker  count\n",
       "0    (0, 18]     0.0     58\n",
       "1    (0, 18]     1.0     11\n",
       "2   (18, 50]     0.0    723\n",
       "3   (18, 50]     1.0    188\n",
       "4  (50, 100]     0.0    282\n",
       "5  (50, 100]     1.0     74"
      ]
     },
     "metadata": {},
     "output_type": "display_data"
    },
    {
     "data": {
      "text/plain": [
       "([<matplotlib.axis.XTick at 0x7fbf25ac36d0>,\n",
       "  <matplotlib.axis.XTick at 0x7fbf25ac36a0>],\n",
       " [Text(0, 0, 'no'), Text(1, 0, 'yes')])"
      ]
     },
     "execution_count": 78,
     "metadata": {},
     "output_type": "execute_result"
    },
    {
     "data": {
      "image/png": "[encoded data removed]",
      "text/plain": [
       "<Figure size 500x500 with 1 Axes>"
      ]
     },
     "metadata": {},
     "output_type": "display_data"
    }
   ],
   "source": [
    "# smoke distribution against age\n",
    "\n",
    "# show in table \n",
    "df_smoke = pd.cut(df['age'],[0,18,50,100]).reset_index()\n",
    "df_smoke['smoker'] = df['smoker']\n",
    "\n",
    "df1 = df_smoke.groupby(['age', 'smoker']).count().reset_index()\n",
    "df2 = df1.rename(columns={'index': 'count'})\n",
    "display(df2)\n",
    "\n",
    "# show in plot\n",
    "sns.barplot(df2, x = 'smoker', y = 'count', hue = 'age')\n",
    "plt.xticks(ticks = [0,1], labels=['no', 'yes'])"
   ]
  },
  {
   "cell_type": "markdown",
   "id": "05df670c",
   "metadata": {},
   "source": [
    "We can see from the above plots that female smoke less than male. Also, in terms of age, people from 18 to 50 smoke the most, followed by people from 50-100, people who are under 18 smoke the least."
   ]
  },
  {
   "cell_type": "markdown",
   "id": "169acb34",
   "metadata": {},
   "source": [
    "### c) Perform feature selection (20 points)\n",
    "\n",
    "Select the predictors for predicting the 'charges' target variable using multicollinearity, correlation analysis, backward feature selection, forward feature selection, and lasso regression models."
   ]
  },
  {
   "cell_type": "code",
   "execution_count": 34,
   "id": "f8a9de31",
   "metadata": {},
   "outputs": [
    {
     "data": {
      "text/html": [
       "<div>\n",
       "<style scoped>\n",
       "    .dataframe tbody tr th:only-of-type {\n",
       "        vertical-align: middle;\n",
       "    }\n",
       "\n",
       "    .dataframe tbody tr th {\n",
       "        vertical-align: top;\n",
       "    }\n",
       "\n",
       "    .dataframe thead th {\n",
       "        text-align: right;\n",
       "    }\n",
       "</style>\n",
       "<table border=\"1\" class=\"dataframe\">\n",
       "  <thead>\n",
       "    <tr style=\"text-align: right;\">\n",
       "      <th></th>\n",
       "      <th>age</th>\n",
       "      <th>sex</th>\n",
       "      <th>bmi</th>\n",
       "      <th>children</th>\n",
       "      <th>smoker</th>\n",
       "      <th>region</th>\n",
       "      <th>charges</th>\n",
       "    </tr>\n",
       "  </thead>\n",
       "  <tbody>\n",
       "    <tr>\n",
       "      <th>0</th>\n",
       "      <td>19</td>\n",
       "      <td>1</td>\n",
       "      <td>27.900</td>\n",
       "      <td>0</td>\n",
       "      <td>1</td>\n",
       "      <td>1</td>\n",
       "      <td>16884.92400</td>\n",
       "    </tr>\n",
       "    <tr>\n",
       "      <th>1</th>\n",
       "      <td>18</td>\n",
       "      <td>0</td>\n",
       "      <td>33.770</td>\n",
       "      <td>1</td>\n",
       "      <td>0</td>\n",
       "      <td>2</td>\n",
       "      <td>1725.55230</td>\n",
       "    </tr>\n",
       "    <tr>\n",
       "      <th>2</th>\n",
       "      <td>28</td>\n",
       "      <td>0</td>\n",
       "      <td>33.000</td>\n",
       "      <td>3</td>\n",
       "      <td>0</td>\n",
       "      <td>2</td>\n",
       "      <td>4449.46200</td>\n",
       "    </tr>\n",
       "    <tr>\n",
       "      <th>3</th>\n",
       "      <td>33</td>\n",
       "      <td>0</td>\n",
       "      <td>22.705</td>\n",
       "      <td>0</td>\n",
       "      <td>0</td>\n",
       "      <td>3</td>\n",
       "      <td>21984.47061</td>\n",
       "    </tr>\n",
       "    <tr>\n",
       "      <th>4</th>\n",
       "      <td>32</td>\n",
       "      <td>0</td>\n",
       "      <td>28.880</td>\n",
       "      <td>0</td>\n",
       "      <td>0</td>\n",
       "      <td>3</td>\n",
       "      <td>3866.85520</td>\n",
       "    </tr>\n",
       "  </tbody>\n",
       "</table>\n",
       "</div>"
      ],
      "text/plain": [
       "   age  sex     bmi  children  smoker  region      charges\n",
       "0   19    1  27.900         0       1       1  16884.92400\n",
       "1   18    0  33.770         1       0       2   1725.55230\n",
       "2   28    0  33.000         3       0       2   4449.46200\n",
       "3   33    0  22.705         0       0       3  21984.47061\n",
       "4   32    0  28.880         0       0       3   3866.85520"
      ]
     },
     "execution_count": 34,
     "metadata": {},
     "output_type": "execute_result"
    }
   ],
   "source": [
    "# Before analyzing the relationship among variables, we need to use numeric variables to replace the categorial ones\n",
    "df['sex'].replace(['male', 'female'],[0, 1], inplace = True)\n",
    "df['smoker'].replace(['no', 'yes'],[0, 1], inplace = True)\n",
    "df['region'].replace(['southwest', 'southeast', 'northwest', 'northeast'],[1, 2, 3, 4], inplace = True)\n",
    "# diplay the dataset\n",
    "df.head()"
   ]
  },
  {
   "cell_type": "code",
   "execution_count": 68,
   "id": "b8b5cd05",
   "metadata": {},
   "outputs": [
    {
     "data": {
      "text/html": [
       "<div>\n",
       "<style scoped>\n",
       "    .dataframe tbody tr th:only-of-type {\n",
       "        vertical-align: middle;\n",
       "    }\n",
       "\n",
       "    .dataframe tbody tr th {\n",
       "        vertical-align: top;\n",
       "    }\n",
       "\n",
       "    .dataframe thead th {\n",
       "        text-align: right;\n",
       "    }\n",
       "</style>\n",
       "<table border=\"1\" class=\"dataframe\">\n",
       "  <thead>\n",
       "    <tr style=\"text-align: right;\">\n",
       "      <th></th>\n",
       "      <th>age</th>\n",
       "      <th>sex</th>\n",
       "      <th>bmi</th>\n",
       "      <th>children</th>\n",
       "      <th>smoker</th>\n",
       "      <th>region</th>\n",
       "    </tr>\n",
       "  </thead>\n",
       "  <tbody>\n",
       "    <tr>\n",
       "      <th>0</th>\n",
       "      <td>19</td>\n",
       "      <td>1</td>\n",
       "      <td>27.900</td>\n",
       "      <td>0</td>\n",
       "      <td>1</td>\n",
       "      <td>1</td>\n",
       "    </tr>\n",
       "    <tr>\n",
       "      <th>1</th>\n",
       "      <td>18</td>\n",
       "      <td>0</td>\n",
       "      <td>33.770</td>\n",
       "      <td>1</td>\n",
       "      <td>0</td>\n",
       "      <td>2</td>\n",
       "    </tr>\n",
       "    <tr>\n",
       "      <th>2</th>\n",
       "      <td>28</td>\n",
       "      <td>0</td>\n",
       "      <td>33.000</td>\n",
       "      <td>3</td>\n",
       "      <td>0</td>\n",
       "      <td>2</td>\n",
       "    </tr>\n",
       "    <tr>\n",
       "      <th>3</th>\n",
       "      <td>33</td>\n",
       "      <td>0</td>\n",
       "      <td>22.705</td>\n",
       "      <td>0</td>\n",
       "      <td>0</td>\n",
       "      <td>3</td>\n",
       "    </tr>\n",
       "    <tr>\n",
       "      <th>4</th>\n",
       "      <td>32</td>\n",
       "      <td>0</td>\n",
       "      <td>28.880</td>\n",
       "      <td>0</td>\n",
       "      <td>0</td>\n",
       "      <td>3</td>\n",
       "    </tr>\n",
       "    <tr>\n",
       "      <th>...</th>\n",
       "      <td>...</td>\n",
       "      <td>...</td>\n",
       "      <td>...</td>\n",
       "      <td>...</td>\n",
       "      <td>...</td>\n",
       "      <td>...</td>\n",
       "    </tr>\n",
       "    <tr>\n",
       "      <th>1333</th>\n",
       "      <td>50</td>\n",
       "      <td>0</td>\n",
       "      <td>30.970</td>\n",
       "      <td>3</td>\n",
       "      <td>0</td>\n",
       "      <td>3</td>\n",
       "    </tr>\n",
       "    <tr>\n",
       "      <th>1334</th>\n",
       "      <td>18</td>\n",
       "      <td>1</td>\n",
       "      <td>31.920</td>\n",
       "      <td>0</td>\n",
       "      <td>0</td>\n",
       "      <td>4</td>\n",
       "    </tr>\n",
       "    <tr>\n",
       "      <th>1335</th>\n",
       "      <td>18</td>\n",
       "      <td>1</td>\n",
       "      <td>36.850</td>\n",
       "      <td>0</td>\n",
       "      <td>0</td>\n",
       "      <td>2</td>\n",
       "    </tr>\n",
       "    <tr>\n",
       "      <th>1336</th>\n",
       "      <td>21</td>\n",
       "      <td>1</td>\n",
       "      <td>25.800</td>\n",
       "      <td>0</td>\n",
       "      <td>0</td>\n",
       "      <td>1</td>\n",
       "    </tr>\n",
       "    <tr>\n",
       "      <th>1337</th>\n",
       "      <td>61</td>\n",
       "      <td>1</td>\n",
       "      <td>29.070</td>\n",
       "      <td>0</td>\n",
       "      <td>1</td>\n",
       "      <td>3</td>\n",
       "    </tr>\n",
       "  </tbody>\n",
       "</table>\n",
       "<p>1337 rows × 6 columns</p>\n",
       "</div>"
      ],
      "text/plain": [
       "      age  sex     bmi  children  smoker  region\n",
       "0      19    1  27.900         0       1       1\n",
       "1      18    0  33.770         1       0       2\n",
       "2      28    0  33.000         3       0       2\n",
       "3      33    0  22.705         0       0       3\n",
       "4      32    0  28.880         0       0       3\n",
       "...   ...  ...     ...       ...     ...     ...\n",
       "1333   50    0  30.970         3       0       3\n",
       "1334   18    1  31.920         0       0       4\n",
       "1335   18    1  36.850         0       0       2\n",
       "1336   21    1  25.800         0       0       1\n",
       "1337   61    1  29.070         0       1       3\n",
       "\n",
       "[1337 rows x 6 columns]"
      ]
     },
     "metadata": {},
     "output_type": "display_data"
    },
    {
     "name": "stdout",
     "output_type": "stream",
     "text": [
      "    feature        VIF\n",
      "0       age   7.974331\n",
      "1       sex   1.927576\n",
      "2       bmi  10.068369\n",
      "3  children   1.802684\n",
      "4    smoker   1.254601\n",
      "5    region   4.865087\n"
     ]
    }
   ],
   "source": [
    "# Multicollinearity\n",
    "\n",
    "# calculating VIF for each feature\n",
    "X_variables = df[['age','sex','bmi','children','smoker','region']]\n",
    "display(X_variables)\n",
    "\n",
    "vif_data = pd.DataFrame()\n",
    "vif_data[\"feature\"] = X_variables.columns\n",
    "vif_data[\"VIF\"] = [variance_inflation_factor(X_variables.values, i) for i in range(len(X_variables.columns))]\n",
    "\n",
    "print(vif_data)"
   ]
  },
  {
   "cell_type": "markdown",
   "id": "84bbccb6",
   "metadata": {},
   "source": [
    "Firstly, we use Multicollinearity to check the relationship between variables. We can see from the above table age and bmi has VIFs of 7.9 and 10, therefore these two attributes may have a Multicollinearity. Since bmi has a Multicollinearity greater thant 10, we can delete it when we analyze the dataset."
   ]
  },
  {
   "cell_type": "code",
   "execution_count": 35,
   "id": "a9425142",
   "metadata": {},
   "outputs": [
    {
     "data": {
      "text/plain": [
       "<AxesSubplot: >"
      ]
     },
     "execution_count": 35,
     "metadata": {},
     "output_type": "execute_result"
    },
    {
     "data": {
      "image/png": "[encoded data removed]",
      "text/plain": [
       "<Figure size 700x500 with 2 Axes>"
      ]
     },
     "metadata": {},
     "output_type": "display_data"
    }
   ],
   "source": [
    "# Correlation analysis\n",
    "cor = df.corr()\n",
    "plt.figure(figsize = (7,5))\n",
    "sns.heatmap(data = cor, annot = True)"
   ]
  },
  {
   "cell_type": "code",
   "execution_count": 36,
   "id": "e892b293",
   "metadata": {},
   "outputs": [
    {
     "data": {
      "text/plain": [
       "age        0.298308\n",
       "bmi        0.198401\n",
       "smoker     0.787234\n",
       "charges    1.000000\n",
       "Name: charges, dtype: float64"
      ]
     },
     "execution_count": 36,
     "metadata": {},
     "output_type": "execute_result"
    }
   ],
   "source": [
    "cor_target = abs(cor[\"charges\"])\n",
    "relevant_features = cor_target[cor_target > 0.1]\n",
    "relevant_features"
   ]
  },
  {
   "cell_type": "markdown",
   "id": "3eeda83d",
   "metadata": {},
   "source": [
    "By using Correlation analysis, we can see that the feature most related to 'charges' is 'smoker', it has a correlation with 'charges' of 0.79. Therefore, we can delete the attribute 'smoker' in the following analysis."
   ]
  },
  {
   "cell_type": "code",
   "execution_count": 84,
   "id": "06ef99fe",
   "metadata": {},
   "outputs": [],
   "source": [
    "# Backward feature selection\n",
    "X = df.drop(\"charges\",1)\n",
    "y = df[\"charges\"]\n",
    "\n",
    "X_1 = sm.add_constant(X)\n",
    "modelOls = sm.OLS(y,X_1).fit()"
   ]
  },
  {
   "cell_type": "code",
   "execution_count": 85,
   "id": "af42c6ca",
   "metadata": {},
   "outputs": [
    {
     "name": "stdout",
     "output_type": "stream",
     "text": [
      "['age', 'bmi', 'children', 'smoker', 'region']\n"
     ]
    }
   ],
   "source": [
    "#Backward Elimination\n",
    "cols = list(X.columns)\n",
    "pmax = 1\n",
    "while (len(cols)>0):\n",
    "    p= []\n",
    "    X_1 = X[cols]\n",
    "    X_1 = sm.add_constant(X_1)\n",
    "    model = sm.OLS(y,X_1).fit()\n",
    "    p = pd.Series(model.pvalues.values[1:],index = cols)      \n",
    "    pmax = max(p)\n",
    "    feature_with_p_max = p.idxmax()\n",
    "    if(pmax>0.05):\n",
    "        cols.remove(feature_with_p_max)\n",
    "    else:\n",
    "        break\n",
    "selected_features_BE = cols\n",
    "print(selected_features_BE)"
   ]
  },
  {
   "cell_type": "markdown",
   "id": "d2c3ce6e",
   "metadata": {},
   "source": [
    "By using Backward Elimination, we can see that the top 5 features related to 'charges' are age, bmi, children, smoker and region."
   ]
  },
  {
   "cell_type": "code",
   "execution_count": 40,
   "id": "d6d9345f",
   "metadata": {},
   "outputs": [
    {
     "name": "stdout",
     "output_type": "stream",
     "text": [
      "age 130.4029713698979\n",
      "sex 4.513038425520704\n",
      "bmi 54.70271486337916\n",
      "children 6.09032649938754\n",
      "smoker 2175.7368631272107\n",
      "region 0.057217194840914885\n"
     ]
    }
   ],
   "source": [
    "# Forward feature selection\n",
    "selected_features = ['age', 'sex', 'bmi', 'children', 'smoker', 'region']\n",
    "\n",
    "for feature in X.columns:\n",
    "    selected_features.append(feature)\n",
    "    f_values, _ = f_regression(X[selected_features], y)\n",
    "    print(feature, f_values[-1])"
   ]
  },
  {
   "cell_type": "code",
   "execution_count": 41,
   "id": "0993ecb0",
   "metadata": {},
   "outputs": [
    {
     "name": "stdout",
     "output_type": "stream",
     "text": [
      "smoker\n"
     ]
    }
   ],
   "source": [
    "best_feature = X.columns[np.argmax(f_values)]\n",
    "print(best_feature)"
   ]
  },
  {
   "cell_type": "markdown",
   "id": "e686ab79",
   "metadata": {},
   "source": [
    "By using Forward feature selection, we can see that the feature most related to 'charges' is smoker, followed by age and bmi."
   ]
  },
  {
   "cell_type": "code",
   "execution_count": 81,
   "id": "912657d0",
   "metadata": {},
   "outputs": [
    {
     "name": "stdout",
     "output_type": "stream",
     "text": [
      "Best alpha using built-in LassoCV: 50.698885\n",
      "Best score using built-in LassoCV: 0.750408\n"
     ]
    }
   ],
   "source": [
    "# Lasso regression\n",
    "regLasso = LassoCV()\n",
    "regLasso.fit(X, y)\n",
    "print(\"Best alpha using built-in LassoCV: %f\" % regLasso.alpha_)\n",
    "print(\"Best score using built-in LassoCV: %f\" %regLasso.score(X,y))\n",
    "coef = pd.Series(regLasso.coef_, index = X.columns)"
   ]
  },
  {
   "cell_type": "code",
   "execution_count": 82,
   "id": "e7f8ac1b",
   "metadata": {},
   "outputs": [
    {
     "name": "stdout",
     "output_type": "stream",
     "text": [
      "Lasso picked 5 variables and eliminated the other 1 variables\n"
     ]
    }
   ],
   "source": [
    "print(\"Lasso picked \" + str(sum(coef != 0)) + \" variables and eliminated the other \" +  str(sum(coef == 0)) + \" variables\")"
   ]
  },
  {
   "cell_type": "code",
   "execution_count": 83,
   "id": "95d96dc3",
   "metadata": {},
   "outputs": [
    {
     "data": {
      "text/plain": [
       "age           257.079621\n",
       "sex             0.000000\n",
       "bmi           329.671499\n",
       "children      443.279429\n",
       "smoker      23496.837340\n",
       "region        309.864056\n",
       "dtype: float64"
      ]
     },
     "execution_count": 83,
     "metadata": {},
     "output_type": "execute_result"
    }
   ],
   "source": [
    "coef"
   ]
  },
  {
   "cell_type": "markdown",
   "id": "f40bfd6e",
   "metadata": {},
   "source": [
    "By using Lasso regression, we can see that the feature most related to 'charges' is smoker."
   ]
  },
  {
   "cell_type": "markdown",
   "id": "1ecdb503",
   "metadata": {},
   "source": [
    "#### We can see from the above analysis that by using differnet methods, the result of feature selection is different, therefore in our analysis it's really important to choose the proper methods according to the different datasets."
   ]
  }
 ],
 "metadata": {
  "kernelspec": {
   "display_name": "Python 3 (ipykernel)",
   "language": "python",
   "name": "python3"
  },
  "language_info": {
   "codemirror_mode": {
    "name": "ipython",
    "version": 3
   },
   "file_extension": ".py",
   "mimetype": "text/x-python",
   "name": "python",
   "nbconvert_exporter": "python",
   "pygments_lexer": "ipython3",
   "version": "3.9.12"
  }
 },
 "nbformat": 4,
 "nbformat_minor": 5
}
